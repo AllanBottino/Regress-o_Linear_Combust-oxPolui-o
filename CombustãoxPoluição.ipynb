{
 "cells": [
  {
   "cell_type": "code",
   "execution_count": 1,
   "metadata": {},
   "outputs": [],
   "source": [
    "from matplotlib import pyplot as plt\n",
    "\n",
    "import pandas as pd\n",
    "import pylab as pl\n",
    "import numpy as np\n",
    "\n",
    "from sklearn import linear_model\n",
    "\n",
    "from sklearn.metrics import r2_score, mean_squared_error, mean_absolute_error\n",
    "\n",
    "from sklearn.model_selection import train_test_split\n",
    "\n",
    "from math import sqrt"
   ]
  },
  {
   "cell_type": "code",
   "execution_count": 2,
   "metadata": {},
   "outputs": [],
   "source": [
    "# Cria um dataset chamado 'df' que receberá os dados do csv:\n",
    "\n",
    "df = pd.read_csv(\"C:/Users/Allan/Documents/Projetos/FuelConsumptionCo2.csv\")"
   ]
  },
  {
   "cell_type": "code",
   "execution_count": 3,
   "metadata": {},
   "outputs": [
    {
     "name": "stdout",
     "output_type": "stream",
     "text": [
      "   MODELYEAR   MAKE       MODEL VEHICLECLASS  ENGINESIZE  CYLINDERS  \\\n",
      "0       2014  ACURA         ILX      COMPACT         2.0          4   \n",
      "1       2014  ACURA         ILX      COMPACT         2.4          4   \n",
      "2       2014  ACURA  ILX HYBRID      COMPACT         1.5          4   \n",
      "3       2014  ACURA     MDX 4WD  SUV - SMALL         3.5          6   \n",
      "4       2014  ACURA     RDX AWD  SUV - SMALL         3.5          6   \n",
      "\n",
      "  TRANSMISSION FUELTYPE  FUELCONSUMPTION_CITY  FUELCONSUMPTION_HWY  \\\n",
      "0          AS5        Z                   9.9                  6.7   \n",
      "1           M6        Z                  11.2                  7.7   \n",
      "2          AV7        Z                   6.0                  5.8   \n",
      "3          AS6        Z                  12.7                  9.1   \n",
      "4          AS6        Z                  12.1                  8.7   \n",
      "\n",
      "   FUELCONSUMPTION_COMB  FUELCONSUMPTION_COMB_MPG  CO2EMISSIONS  \n",
      "0                   8.5                        33           196  \n",
      "1                   9.6                        29           221  \n",
      "2                   5.9                        48           136  \n",
      "3                  11.1                        25           255  \n",
      "4                  10.6                        27           244  \n"
     ]
    }
   ],
   "source": [
    "#EXIBE A ESTRUTURA DO DATAFRAME:\n",
    "\n",
    "print(df.head())"
   ]
  },
  {
   "cell_type": "code",
   "execution_count": 4,
   "metadata": {
    "scrolled": true
   },
   "outputs": [
    {
     "data": {
      "text/html": [
       "<div>\n",
       "<style scoped>\n",
       "    .dataframe tbody tr th:only-of-type {\n",
       "        vertical-align: middle;\n",
       "    }\n",
       "\n",
       "    .dataframe tbody tr th {\n",
       "        vertical-align: top;\n",
       "    }\n",
       "\n",
       "    .dataframe thead th {\n",
       "        text-align: right;\n",
       "    }\n",
       "</style>\n",
       "<table border=\"1\" class=\"dataframe\">\n",
       "  <thead>\n",
       "    <tr style=\"text-align: right;\">\n",
       "      <th></th>\n",
       "      <th>MODELYEAR</th>\n",
       "      <th>MAKE</th>\n",
       "      <th>MODEL</th>\n",
       "      <th>VEHICLECLASS</th>\n",
       "      <th>ENGINESIZE</th>\n",
       "      <th>CYLINDERS</th>\n",
       "      <th>TRANSMISSION</th>\n",
       "      <th>FUELTYPE</th>\n",
       "      <th>FUELCONSUMPTION_CITY</th>\n",
       "      <th>FUELCONSUMPTION_HWY</th>\n",
       "      <th>FUELCONSUMPTION_COMB</th>\n",
       "      <th>FUELCONSUMPTION_COMB_MPG</th>\n",
       "      <th>CO2EMISSIONS</th>\n",
       "    </tr>\n",
       "  </thead>\n",
       "  <tbody>\n",
       "    <tr>\n",
       "      <th>0</th>\n",
       "      <td>2014</td>\n",
       "      <td>ACURA</td>\n",
       "      <td>ILX</td>\n",
       "      <td>COMPACT</td>\n",
       "      <td>2.0</td>\n",
       "      <td>4</td>\n",
       "      <td>AS5</td>\n",
       "      <td>Z</td>\n",
       "      <td>9.9</td>\n",
       "      <td>6.7</td>\n",
       "      <td>8.5</td>\n",
       "      <td>33</td>\n",
       "      <td>196</td>\n",
       "    </tr>\n",
       "    <tr>\n",
       "      <th>1</th>\n",
       "      <td>2014</td>\n",
       "      <td>ACURA</td>\n",
       "      <td>ILX</td>\n",
       "      <td>COMPACT</td>\n",
       "      <td>2.4</td>\n",
       "      <td>4</td>\n",
       "      <td>M6</td>\n",
       "      <td>Z</td>\n",
       "      <td>11.2</td>\n",
       "      <td>7.7</td>\n",
       "      <td>9.6</td>\n",
       "      <td>29</td>\n",
       "      <td>221</td>\n",
       "    </tr>\n",
       "    <tr>\n",
       "      <th>2</th>\n",
       "      <td>2014</td>\n",
       "      <td>ACURA</td>\n",
       "      <td>ILX HYBRID</td>\n",
       "      <td>COMPACT</td>\n",
       "      <td>1.5</td>\n",
       "      <td>4</td>\n",
       "      <td>AV7</td>\n",
       "      <td>Z</td>\n",
       "      <td>6.0</td>\n",
       "      <td>5.8</td>\n",
       "      <td>5.9</td>\n",
       "      <td>48</td>\n",
       "      <td>136</td>\n",
       "    </tr>\n",
       "    <tr>\n",
       "      <th>3</th>\n",
       "      <td>2014</td>\n",
       "      <td>ACURA</td>\n",
       "      <td>MDX 4WD</td>\n",
       "      <td>SUV - SMALL</td>\n",
       "      <td>3.5</td>\n",
       "      <td>6</td>\n",
       "      <td>AS6</td>\n",
       "      <td>Z</td>\n",
       "      <td>12.7</td>\n",
       "      <td>9.1</td>\n",
       "      <td>11.1</td>\n",
       "      <td>25</td>\n",
       "      <td>255</td>\n",
       "    </tr>\n",
       "    <tr>\n",
       "      <th>4</th>\n",
       "      <td>2014</td>\n",
       "      <td>ACURA</td>\n",
       "      <td>RDX AWD</td>\n",
       "      <td>SUV - SMALL</td>\n",
       "      <td>3.5</td>\n",
       "      <td>6</td>\n",
       "      <td>AS6</td>\n",
       "      <td>Z</td>\n",
       "      <td>12.1</td>\n",
       "      <td>8.7</td>\n",
       "      <td>10.6</td>\n",
       "      <td>27</td>\n",
       "      <td>244</td>\n",
       "    </tr>\n",
       "  </tbody>\n",
       "</table>\n",
       "</div>"
      ],
      "text/plain": [
       "   MODELYEAR   MAKE       MODEL VEHICLECLASS  ENGINESIZE  CYLINDERS  \\\n",
       "0       2014  ACURA         ILX      COMPACT         2.0          4   \n",
       "1       2014  ACURA         ILX      COMPACT         2.4          4   \n",
       "2       2014  ACURA  ILX HYBRID      COMPACT         1.5          4   \n",
       "3       2014  ACURA     MDX 4WD  SUV - SMALL         3.5          6   \n",
       "4       2014  ACURA     RDX AWD  SUV - SMALL         3.5          6   \n",
       "\n",
       "  TRANSMISSION FUELTYPE  FUELCONSUMPTION_CITY  FUELCONSUMPTION_HWY  \\\n",
       "0          AS5        Z                   9.9                  6.7   \n",
       "1           M6        Z                  11.2                  7.7   \n",
       "2          AV7        Z                   6.0                  5.8   \n",
       "3          AS6        Z                  12.7                  9.1   \n",
       "4          AS6        Z                  12.1                  8.7   \n",
       "\n",
       "   FUELCONSUMPTION_COMB  FUELCONSUMPTION_COMB_MPG  CO2EMISSIONS  \n",
       "0                   8.5                        33           196  \n",
       "1                   9.6                        29           221  \n",
       "2                   5.9                        48           136  \n",
       "3                  11.1                        25           255  \n",
       "4                  10.6                        27           244  "
      ]
     },
     "execution_count": 4,
     "metadata": {},
     "output_type": "execute_result"
    }
   ],
   "source": [
    "df.head()"
   ]
  },
  {
   "cell_type": "markdown",
   "metadata": {},
   "source": [
    "# Selecionar apenas as features do Motor e CO2"
   ]
  },
  {
   "cell_type": "code",
   "execution_count": 5,
   "metadata": {},
   "outputs": [],
   "source": [
    "# Levará em consideração apenas essas duas variaveis:\n",
    "\n",
    "motores =  df[['ENGINESIZE']] # Aqui é criado a váriavél (features) motores e dentro é jogado \"ENGINESIZE\"\n",
    "\n",
    "co2 = df[['CO2EMISSIONS']] # E aqui é criado a váriavel co2\n",
    "\n"
   ]
  },
  {
   "cell_type": "code",
   "execution_count": 6,
   "metadata": {},
   "outputs": [
    {
     "name": "stdout",
     "output_type": "stream",
     "text": [
      "   ENGINESIZE\n",
      "0         2.0\n",
      "1         2.4\n",
      "2         1.5\n",
      "3         3.5\n",
      "4         3.5\n"
     ]
    }
   ],
   "source": [
    "print(motores.head())"
   ]
  },
  {
   "cell_type": "code",
   "execution_count": 7,
   "metadata": {},
   "outputs": [
    {
     "name": "stdout",
     "output_type": "stream",
     "text": [
      "   CO2EMISSIONS\n",
      "0           196\n",
      "1           221\n",
      "2           136\n",
      "3           255\n",
      "4           244\n"
     ]
    }
   ],
   "source": [
    "print(co2.head())"
   ]
  },
  {
   "cell_type": "markdown",
   "metadata": {},
   "source": [
    "# Dividir o dataset em dados de treinamento e dados de teste, ainda levando apenas as duas variaveis em consideração.\n"
   ]
  },
  {
   "cell_type": "code",
   "execution_count": 8,
   "metadata": {},
   "outputs": [
    {
     "name": "stdout",
     "output_type": "stream",
     "text": [
      "<class 'pandas.core.frame.DataFrame'>\n"
     ]
    }
   ],
   "source": [
    "# Neste casos vamos usar o train_test_split do scikitlearn\n",
    "\n",
    "# Como teste o parametro é 20% e como treino 80%, os 80% serão confrontados com os resultados\n",
    "# dos 20% para ver se está indo bem.\n",
    "\n",
    "motores_treino, motores_test, co2_treino, co2_test = train_test_split(motores, co2, test_size=0.2, random_state=42)\n",
    "\n",
    "print(type(motores_treino))\n",
    "\n"
   ]
  },
  {
   "cell_type": "markdown",
   "metadata": {},
   "source": [
    "# Exibir a correlação entre as features do dataset de treinamento"
   ]
  },
  {
   "cell_type": "code",
   "execution_count": 9,
   "metadata": {},
   "outputs": [
    {
     "data": {
      "image/png": "[encoded data removed]",
      "text/plain": [
       "<Figure size 432x288 with 1 Axes>"
      ]
     },
     "metadata": {
      "needs_background": "light"
     },
     "output_type": "display_data"
    }
   ],
   "source": [
    "plt.scatter(motores_treino, co2_treino, color='blue') # Aqui estão os 80%\n",
    "plt.xlabel(\"Motor\")\n",
    "plt.ylabel(\"Emissão de CO2\")\n",
    "plt.show()"
   ]
  },
  {
   "cell_type": "markdown",
   "metadata": {},
   "source": [
    "# Vamos treinar o modelo de regressão linear"
   ]
  },
  {
   "cell_type": "code",
   "execution_count": 10,
   "metadata": {},
   "outputs": [
    {
     "data": {
      "text/plain": [
       "LinearRegression()"
      ]
     },
     "execution_count": 10,
     "metadata": {},
     "output_type": "execute_result"
    }
   ],
   "source": [
    "# CRIANDO UM MODELO DE TIPO DE REGRESSÃO LINEAR (Treino):\n",
    "\n",
    "modelo = linear_model.LinearRegression() # Isso é Regressão Linear de MINIMOS QUADRADOS!\n",
    "\n",
    "# TREINAR O MODELO USANDO O DATASET DE TESTE\n",
    "# PARA ENCONTRAR O VALOR DE A E B (Y = A + B.X)\n",
    "\n",
    "modelo.fit(motores_treino, co2_treino) # O comando \"\".fit\" treina o modelo(ativa a regressão) levando em cosideração as \n",
    "                                       # duas variaveis (motores_treino e co2_treino)\n",
    "    \n",
    "# Basicamente aqui ele criou a formula Y = A + B.X\n",
    "\n",
    "#!#!#!#! Apartir daqui o modelo já foi treinado #!#!#!#!\n"
   ]
  },
  {
   "cell_type": "markdown",
   "metadata": {},
   "source": [
    "# Exibir os coeficientes (A e B)"
   ]
  },
  {
   "cell_type": "code",
   "execution_count": 11,
   "metadata": {},
   "outputs": [
    {
     "name": "stdout",
     "output_type": "stream",
     "text": [
      "(A) Intercepto:  [126.28970217]\n",
      "(B) Inclinação:  [[38.99297872]]\n"
     ]
    }
   ],
   "source": [
    "# Feito o passo acima, foi criado um modelo onde o algoritmo da regressão linear foi usado, e nela foi determinado no\n",
    "# grafíco as posições dos data points (acho) e nisto também foi criado o \"intercepto\" e a \"inclinação\"\n",
    "\n",
    "print('(A) Intercepto: ', modelo.intercept_) # \"Intercepto\" é de onde sairá a reta do eixo Y.\n",
    "\n",
    "print('(B) Inclinação: ', modelo.coef_) # E a \"Inclinação\" é a inclinação da reta no eixo Y (Intercepto)\n",
    "\n",
    "\n",
    "#!#!#!#!#! Aqui está finalmente os valores de A e B (Y = A + B.x).\n",
    "\n",
    "\n",
    "#                              A = Y (coluna) = 126.28970217\n",
    "#                              B = X (coluna) = 38.99297872\n",
    "\n",
    "\n"
   ]
  },
  {
   "cell_type": "markdown",
   "metadata": {},
   "source": [
    "# Vamos exibir a nossa reta de regressão no dataset de treino"
   ]
  },
  {
   "cell_type": "code",
   "execution_count": 12,
   "metadata": {},
   "outputs": [
    {
     "data": {
      "image/png": "[encoded data removed]",
      "text/plain": [
       "<Figure size 432x288 with 1 Axes>"
      ]
     },
     "metadata": {
      "needs_background": "light"
     },
     "output_type": "display_data"
    }
   ],
   "source": [
    "#!#! Lembrando que há dois modelos treinados,\n",
    "\n",
    "\n",
    "# O modelo foi treinado na célula 19. Encontramos o valor de A e B, agora iremos ver o modelo treinado em um gráfico:\n",
    "\n",
    "plt.scatter(motores_treino, co2_treino, color='blue')\n",
    "\n",
    "plt.plot(motores_treino, modelo.coef_[0][0]*motores_treino + modelo.intercept_[0], '-r')\n",
    "\n",
    "plt.ylabel(\"Emissão de C02\")\n",
    "plt.xlabel(\"Motores\")\n",
    "\n",
    "plt.show()"
   ]
  },
  {
   "cell_type": "markdown",
   "metadata": {},
   "source": [
    "# Vamos executar o nosso modelo no dataset de teste"
   ]
  },
  {
   "cell_type": "code",
   "execution_count": 13,
   "metadata": {},
   "outputs": [],
   "source": [
    "# Aqui será criada a variavél \"predicoesCo2\" que é o que eu quero descobrir.\n",
    "\n",
    "# O modelo será treinado com o comando \".predict\", sobre a variavel \"motores_test\", pois eu quero saber a emissão de\n",
    "# Co2 que cada motor gera. E a variavel \"motores_test\" já tem os valores corretos (20%) e irá confrontar os dados\n",
    "# do modelo.\n",
    "\n",
    "predicoesCo2 = modelo.predict(motores_test) \n"
   ]
  },
  {
   "cell_type": "markdown",
   "metadata": {},
   "source": [
    "# Vamos exibir a nossa reta de regressão no dataset de teste¶\n"
   ]
  },
  {
   "cell_type": "code",
   "execution_count": 14,
   "metadata": {},
   "outputs": [
    {
     "data": {
      "image/png": "[encoded data removed]",
      "text/plain": [
       "<Figure size 432x288 with 1 Axes>"
      ]
     },
     "metadata": {
      "needs_background": "light"
     },
     "output_type": "display_data"
    }
   ],
   "source": [
    "plt.scatter(motores_test, co2_test, color='blue')\n",
    "\n",
    "plt.plot(motores_test, modelo.coef_[0][0]*motores_test + modelo.intercept_[0], '-r')\n",
    "\n",
    "plt.ylabel(\"Emissão de C02\")\n",
    "plt.xlabel(\"Motores\")\n",
    "plt.show()"
   ]
  },
  {
   "cell_type": "markdown",
   "metadata": {},
   "source": [
    "# Vamos avaliar o modelo¶"
   ]
  },
  {
   "cell_type": "code",
   "execution_count": 25,
   "metadata": {},
   "outputs": [
    {
     "name": "stdout",
     "output_type": "stream",
     "text": [
      "Soma dos Erros ao Quadrado (SSE): 210991 \n",
      "Erro Quadrático Médio (MSE): 985.94\n",
      "Erro Médio Absoluto (MAE): 24.10\n",
      "Raiz do Erro Quadrático Médio (RMSE): 31.40 \n",
      "R2-score: 0.68\n"
     ]
    }
   ],
   "source": [
    "#Agora é mostrar as métricas:\n",
    "\n",
    "print(\"Soma dos Erros ao Quadrado (SSE): %2.f \" % np.sum((predicoesCo2 - co2_teste)**2))\n",
    "\n",
    "print(\"Erro Quadrático Médio (MSE): %.2f\" % mean_squared_error(co2_teste, predicoesCo2))\n",
    "\n",
    "print(\"Erro Médio Absoluto (MAE): %.2f\" % mean_absolute_error(co2_teste, predicoesCo2))\n",
    "\n",
    "print (\"Raiz do Erro Quadrático Médio (RMSE): %.2f \" % sqrt(mean_squared_error(co2_teste, predicoesCo2)))\n",
    "\n",
    "print(\"R2-score: %.2f\" % r2_score(predicoesCo2 , co2_teste) )"
   ]
  },
  {
   "cell_type": "code",
   "execution_count": null,
   "metadata": {},
   "outputs": [],
   "source": [
    "\n"
   ]
  },
  {
   "cell_type": "code",
   "execution_count": null,
   "metadata": {},
   "outputs": [],
   "source": []
  },
  {
   "cell_type": "code",
   "execution_count": null,
   "metadata": {},
   "outputs": [],
   "source": []
  },
  {
   "cell_type": "code",
   "execution_count": null,
   "metadata": {},
   "outputs": [],
   "source": []
  },
  {
   "cell_type": "code",
   "execution_count": null,
   "metadata": {},
   "outputs": [],
   "source": []
  },
  {
   "cell_type": "code",
   "execution_count": null,
   "metadata": {},
   "outputs": [],
   "source": []
  },
  {
   "cell_type": "code",
   "execution_count": null,
   "metadata": {},
   "outputs": [],
   "source": []
  },
  {
   "cell_type": "code",
   "execution_count": null,
   "metadata": {},
   "outputs": [],
   "source": []
  },
  {
   "cell_type": "code",
   "execution_count": null,
   "metadata": {},
   "outputs": [],
   "source": []
  },
  {
   "cell_type": "code",
   "execution_count": null,
   "metadata": {},
   "outputs": [],
   "source": []
  },
  {
   "cell_type": "code",
   "execution_count": null,
   "metadata": {},
   "outputs": [],
   "source": []
  },
  {
   "cell_type": "code",
   "execution_count": null,
   "metadata": {},
   "outputs": [],
   "source": []
  },
  {
   "cell_type": "code",
   "execution_count": null,
   "metadata": {},
   "outputs": [],
   "source": []
  },
  {
   "cell_type": "code",
   "execution_count": null,
   "metadata": {},
   "outputs": [],
   "source": []
  },
  {
   "cell_type": "code",
   "execution_count": null,
   "metadata": {},
   "outputs": [],
   "source": []
  },
  {
   "cell_type": "code",
   "execution_count": null,
   "metadata": {},
   "outputs": [],
   "source": []
  },
  {
   "cell_type": "code",
   "execution_count": null,
   "metadata": {},
   "outputs": [],
   "source": []
  },
  {
   "cell_type": "code",
   "execution_count": null,
   "metadata": {},
   "outputs": [],
   "source": []
  },
  {
   "cell_type": "code",
   "execution_count": null,
   "metadata": {},
   "outputs": [],
   "source": []
  },
  {
   "cell_type": "code",
   "execution_count": null,
   "metadata": {},
   "outputs": [],
   "source": []
  },
  {
   "cell_type": "code",
   "execution_count": null,
   "metadata": {},
   "outputs": [],
   "source": []
  }
 ],
 "metadata": {
  "kernelspec": {
   "display_name": "Python 3",
   "language": "python",
   "name": "python3"
  },
  "language_info": {
   "codemirror_mode": {
    "name": "ipython",
    "version": 3
   },
   "file_extension": ".py",
   "mimetype": "text/x-python",
   "name": "python",
   "nbconvert_exporter": "python",
   "pygments_lexer": "ipython3",
   "version": "3.8.3"
  }
 },
 "nbformat": 4,
 "nbformat_minor": 4
}
